{
 "cells": [
  {
   "cell_type": "markdown",
   "metadata": {},
   "source": [
    "# Práctica 1. Web Scraping - Análisis de regresión\n",
    "**Nombres:** Juan Pablo Upoff, Ponce Proaño Miguel Alejandro\n",
    "\n",
    "**Asignatura:** M2.851 - Tipología y ciclo de vida de los datos aula 1\n",
    "\n",
    "**Actividad:** M2.851-20202-1134081-práctica1"
   ]
  },
  {
   "cell_type": "markdown",
   "metadata": {},
   "source": [
    "## Librerías utilizadas"
   ]
  },
  {
   "cell_type": "code",
   "execution_count": 1,
   "metadata": {},
   "outputs": [],
   "source": [
    "import pandas as pd\n",
    "import os\n",
    "from os import path\n",
    "import numpy as np\n",
    "import seaborn as sns\n",
    "import matplotlib.pyplot as plt\n",
    "from sklearn.base import BaseEstimator, TransformerMixin\n",
    "from sklearn.preprocessing import StandardScaler, OneHotEncoder, LabelEncoder, Normalizer\n",
    "from sklearn.ensemble import RandomForestRegressor\n",
    "from sklearn.model_selection import train_test_split\n",
    "from sklearn.metrics import mean_squared_error,mean_absolute_error,r2_score\n",
    "from sklearn.model_selection import cross_val_score\n",
    "from sklearn.model_selection import KFold"
   ]
  },
  {
   "cell_type": "code",
   "execution_count": 2,
   "metadata": {},
   "outputs": [],
   "source": [
    "pd.set_option('float_format', '{:f}'.format)"
   ]
  },
  {
   "cell_type": "markdown",
   "metadata": {},
   "source": [
    "# Análisis de regresión\n",
    "\n",
    "Una vez tratados los datos y obtenido algunas representaciones gráficas, se puede luego empezar a plantear preguntas sobre el mismo. En este caso nos gustaría conocer si existe alguna relación entre el conjunto de empresas abiertas del tipo sociedad anónima del 2012 al 2017, se pueden representar con una regresión. \n"
   ]
  },
  {
   "cell_type": "code",
   "execution_count": 3,
   "metadata": {},
   "outputs": [
    {
     "name": "stdout",
     "output_type": "stream",
     "text": [
      "<class 'pandas.core.frame.DataFrame'>\n",
      "RangeIndex: 300 entries, 0 to 299\n",
      "Data columns (total 22 columns):\n",
      " #   Column         Non-Null Count  Dtype  \n",
      "---  ------         --------------  -----  \n",
      " 0   OBJECTID       300 non-null    float64\n",
      " 1   Codigo         300 non-null    float64\n",
      " 2   Texto          300 non-null    object \n",
      " 3   Total          300 non-null    float64\n",
      " 4   Anio           300 non-null    int64  \n",
      " 5   TipoEmpresa    300 non-null    object \n",
      " 6   cod            300 non-null    float64\n",
      " 7   Shape__Area    300 non-null    float64\n",
      " 8   Shape__Length  300 non-null    float64\n",
      " 9   TipoHipoteca   300 non-null    object \n",
      " 10  M01            300 non-null    float64\n",
      " 11  M02            300 non-null    float64\n",
      " 12  M03            300 non-null    float64\n",
      " 13  M04            300 non-null    float64\n",
      " 14  M05            300 non-null    float64\n",
      " 15  M06            300 non-null    float64\n",
      " 16  M07            300 non-null    float64\n",
      " 17  M08            300 non-null    float64\n",
      " 18  M09            300 non-null    float64\n",
      " 19  M10            300 non-null    float64\n",
      " 20  M11            300 non-null    float64\n",
      " 21  M12            300 non-null    float64\n",
      "dtypes: float64(18), int64(1), object(3)\n",
      "memory usage: 51.7+ KB\n",
      "None\n"
     ]
    },
    {
     "data": {
      "text/html": [
       "<div>\n",
       "<style scoped>\n",
       "    .dataframe tbody tr th:only-of-type {\n",
       "        vertical-align: middle;\n",
       "    }\n",
       "\n",
       "    .dataframe tbody tr th {\n",
       "        vertical-align: top;\n",
       "    }\n",
       "\n",
       "    .dataframe thead th {\n",
       "        text-align: right;\n",
       "    }\n",
       "</style>\n",
       "<table border=\"1\" class=\"dataframe\">\n",
       "  <thead>\n",
       "    <tr style=\"text-align: right;\">\n",
       "      <th></th>\n",
       "      <th>OBJECTID</th>\n",
       "      <th>Codigo</th>\n",
       "      <th>Texto</th>\n",
       "      <th>Total</th>\n",
       "      <th>Anio</th>\n",
       "      <th>TipoEmpresa</th>\n",
       "      <th>cod</th>\n",
       "      <th>Shape__Area</th>\n",
       "      <th>Shape__Length</th>\n",
       "      <th>TipoHipoteca</th>\n",
       "      <th>...</th>\n",
       "      <th>M03</th>\n",
       "      <th>M04</th>\n",
       "      <th>M05</th>\n",
       "      <th>M06</th>\n",
       "      <th>M07</th>\n",
       "      <th>M08</th>\n",
       "      <th>M09</th>\n",
       "      <th>M10</th>\n",
       "      <th>M11</th>\n",
       "      <th>M12</th>\n",
       "    </tr>\n",
       "  </thead>\n",
       "  <tbody>\n",
       "    <tr>\n",
       "      <th>0</th>\n",
       "      <td>1.000000</td>\n",
       "      <td>1.000000</td>\n",
       "      <td>Araba/Álava</td>\n",
       "      <td>828.000000</td>\n",
       "      <td>2017</td>\n",
       "      <td>Sociedad_Anonima</td>\n",
       "      <td>1.000000</td>\n",
       "      <td>5558819816.938478</td>\n",
       "      <td>899065.384761</td>\n",
       "      <td>Importe_hipotecas</td>\n",
       "      <td>...</td>\n",
       "      <td>53254.000000</td>\n",
       "      <td>31073.000000</td>\n",
       "      <td>63502.000000</td>\n",
       "      <td>29401.000000</td>\n",
       "      <td>32969.000000</td>\n",
       "      <td>22977.000000</td>\n",
       "      <td>44810.000000</td>\n",
       "      <td>39951.000000</td>\n",
       "      <td>37119.000000</td>\n",
       "      <td>31979.000000</td>\n",
       "    </tr>\n",
       "    <tr>\n",
       "      <th>1</th>\n",
       "      <td>2.000000</td>\n",
       "      <td>2.000000</td>\n",
       "      <td>Albacete</td>\n",
       "      <td>488.000000</td>\n",
       "      <td>2017</td>\n",
       "      <td>Sociedad_Anonima</td>\n",
       "      <td>2.000000</td>\n",
       "      <td>24628869196.668800</td>\n",
       "      <td>982714.983177</td>\n",
       "      <td>Importe_hipotecas</td>\n",
       "      <td>...</td>\n",
       "      <td>28018.000000</td>\n",
       "      <td>19598.000000</td>\n",
       "      <td>52585.000000</td>\n",
       "      <td>23393.000000</td>\n",
       "      <td>44807.000000</td>\n",
       "      <td>35571.000000</td>\n",
       "      <td>44849.000000</td>\n",
       "      <td>16399.000000</td>\n",
       "      <td>38425.000000</td>\n",
       "      <td>23339.000000</td>\n",
       "    </tr>\n",
       "    <tr>\n",
       "      <th>2</th>\n",
       "      <td>3.000000</td>\n",
       "      <td>3.000000</td>\n",
       "      <td>Alicante</td>\n",
       "      <td>1650.000000</td>\n",
       "      <td>2017</td>\n",
       "      <td>Sociedad_Anonima</td>\n",
       "      <td>3.000000</td>\n",
       "      <td>9507175453.609671</td>\n",
       "      <td>698396.737290</td>\n",
       "      <td>Importe_hipotecas</td>\n",
       "      <td>...</td>\n",
       "      <td>210355.000000</td>\n",
       "      <td>222585.000000</td>\n",
       "      <td>153248.000000</td>\n",
       "      <td>157547.000000</td>\n",
       "      <td>121150.000000</td>\n",
       "      <td>128666.000000</td>\n",
       "      <td>206276.000000</td>\n",
       "      <td>125571.000000</td>\n",
       "      <td>150514.000000</td>\n",
       "      <td>115540.000000</td>\n",
       "    </tr>\n",
       "    <tr>\n",
       "      <th>3</th>\n",
       "      <td>4.000000</td>\n",
       "      <td>4.000000</td>\n",
       "      <td>Almería</td>\n",
       "      <td>617.000000</td>\n",
       "      <td>2017</td>\n",
       "      <td>Sociedad_Anonima</td>\n",
       "      <td>4.000000</td>\n",
       "      <td>13855293063.925501</td>\n",
       "      <td>764383.039721</td>\n",
       "      <td>Importe_hipotecas</td>\n",
       "      <td>...</td>\n",
       "      <td>79137.000000</td>\n",
       "      <td>100574.000000</td>\n",
       "      <td>63395.000000</td>\n",
       "      <td>55218.000000</td>\n",
       "      <td>54463.000000</td>\n",
       "      <td>161397.000000</td>\n",
       "      <td>109346.000000</td>\n",
       "      <td>64817.000000</td>\n",
       "      <td>114675.000000</td>\n",
       "      <td>66255.000000</td>\n",
       "    </tr>\n",
       "    <tr>\n",
       "      <th>4</th>\n",
       "      <td>5.000000</td>\n",
       "      <td>5.000000</td>\n",
       "      <td>Ávila</td>\n",
       "      <td>130.000000</td>\n",
       "      <td>2017</td>\n",
       "      <td>Sociedad_Anonima</td>\n",
       "      <td>5.000000</td>\n",
       "      <td>13966290552.547899</td>\n",
       "      <td>825947.526118</td>\n",
       "      <td>Importe_hipotecas</td>\n",
       "      <td>...</td>\n",
       "      <td>5413.000000</td>\n",
       "      <td>8598.000000</td>\n",
       "      <td>6185.000000</td>\n",
       "      <td>8805.000000</td>\n",
       "      <td>7332.000000</td>\n",
       "      <td>3406.000000</td>\n",
       "      <td>8994.000000</td>\n",
       "      <td>6545.000000</td>\n",
       "      <td>7827.000000</td>\n",
       "      <td>6345.000000</td>\n",
       "    </tr>\n",
       "    <tr>\n",
       "      <th>5</th>\n",
       "      <td>6.000000</td>\n",
       "      <td>6.000000</td>\n",
       "      <td>Badajoz</td>\n",
       "      <td>639.000000</td>\n",
       "      <td>2017</td>\n",
       "      <td>Sociedad_Anonima</td>\n",
       "      <td>6.000000</td>\n",
       "      <td>35803975339.520302</td>\n",
       "      <td>1452266.342878</td>\n",
       "      <td>Importe_hipotecas</td>\n",
       "      <td>...</td>\n",
       "      <td>34165.000000</td>\n",
       "      <td>29641.000000</td>\n",
       "      <td>55736.000000</td>\n",
       "      <td>34778.000000</td>\n",
       "      <td>27405.000000</td>\n",
       "      <td>37356.000000</td>\n",
       "      <td>41243.000000</td>\n",
       "      <td>40108.000000</td>\n",
       "      <td>24720.000000</td>\n",
       "      <td>28466.000000</td>\n",
       "    </tr>\n",
       "    <tr>\n",
       "      <th>6</th>\n",
       "      <td>7.000000</td>\n",
       "      <td>7.000000</td>\n",
       "      <td>Balears, Illes</td>\n",
       "      <td>2351.000000</td>\n",
       "      <td>2017</td>\n",
       "      <td>Sociedad_Anonima</td>\n",
       "      <td>7.000000</td>\n",
       "      <td>8397658655.339479</td>\n",
       "      <td>1885856.050393</td>\n",
       "      <td>Importe_hipotecas</td>\n",
       "      <td>...</td>\n",
       "      <td>227123.000000</td>\n",
       "      <td>174105.000000</td>\n",
       "      <td>300946.000000</td>\n",
       "      <td>277222.000000</td>\n",
       "      <td>279123.000000</td>\n",
       "      <td>220866.000000</td>\n",
       "      <td>289389.000000</td>\n",
       "      <td>193939.000000</td>\n",
       "      <td>222455.000000</td>\n",
       "      <td>207790.000000</td>\n",
       "    </tr>\n",
       "    <tr>\n",
       "      <th>7</th>\n",
       "      <td>8.000000</td>\n",
       "      <td>8.000000</td>\n",
       "      <td>Barcelona</td>\n",
       "      <td>14887.000000</td>\n",
       "      <td>2017</td>\n",
       "      <td>Sociedad_Anonima</td>\n",
       "      <td>8.000000</td>\n",
       "      <td>13892170189.546900</td>\n",
       "      <td>1078129.191819</td>\n",
       "      <td>Importe_hipotecas</td>\n",
       "      <td>...</td>\n",
       "      <td>725512.000000</td>\n",
       "      <td>578403.000000</td>\n",
       "      <td>773931.000000</td>\n",
       "      <td>716581.000000</td>\n",
       "      <td>748531.000000</td>\n",
       "      <td>734981.000000</td>\n",
       "      <td>810622.000000</td>\n",
       "      <td>609980.000000</td>\n",
       "      <td>789609.000000</td>\n",
       "      <td>478835.000000</td>\n",
       "    </tr>\n",
       "    <tr>\n",
       "      <th>8</th>\n",
       "      <td>9.000000</td>\n",
       "      <td>9.000000</td>\n",
       "      <td>Burgos</td>\n",
       "      <td>662.000000</td>\n",
       "      <td>2017</td>\n",
       "      <td>Sociedad_Anonima</td>\n",
       "      <td>9.000000</td>\n",
       "      <td>26203492774.133999</td>\n",
       "      <td>1530155.700442</td>\n",
       "      <td>Importe_hipotecas</td>\n",
       "      <td>...</td>\n",
       "      <td>32329.000000</td>\n",
       "      <td>29804.000000</td>\n",
       "      <td>24443.000000</td>\n",
       "      <td>20993.000000</td>\n",
       "      <td>23892.000000</td>\n",
       "      <td>24705.000000</td>\n",
       "      <td>27385.000000</td>\n",
       "      <td>27755.000000</td>\n",
       "      <td>28738.000000</td>\n",
       "      <td>23864.000000</td>\n",
       "    </tr>\n",
       "    <tr>\n",
       "      <th>9</th>\n",
       "      <td>10.000000</td>\n",
       "      <td>10.000000</td>\n",
       "      <td>Cáceres</td>\n",
       "      <td>332.000000</td>\n",
       "      <td>2017</td>\n",
       "      <td>Sociedad_Anonima</td>\n",
       "      <td>10.000000</td>\n",
       "      <td>33620075321.108898</td>\n",
       "      <td>1242300.636382</td>\n",
       "      <td>Importe_hipotecas</td>\n",
       "      <td>...</td>\n",
       "      <td>15486.000000</td>\n",
       "      <td>7744.000000</td>\n",
       "      <td>30604.000000</td>\n",
       "      <td>33131.000000</td>\n",
       "      <td>13920.000000</td>\n",
       "      <td>30120.000000</td>\n",
       "      <td>17151.000000</td>\n",
       "      <td>17418.000000</td>\n",
       "      <td>15368.000000</td>\n",
       "      <td>26674.000000</td>\n",
       "    </tr>\n",
       "  </tbody>\n",
       "</table>\n",
       "<p>10 rows × 22 columns</p>\n",
       "</div>"
      ],
      "text/plain": [
       "   OBJECTID    Codigo           Texto        Total  Anio       TipoEmpresa  \\\n",
       "0  1.000000  1.000000     Araba/Álava   828.000000  2017  Sociedad_Anonima   \n",
       "1  2.000000  2.000000        Albacete   488.000000  2017  Sociedad_Anonima   \n",
       "2  3.000000  3.000000        Alicante  1650.000000  2017  Sociedad_Anonima   \n",
       "3  4.000000  4.000000         Almería   617.000000  2017  Sociedad_Anonima   \n",
       "4  5.000000  5.000000           Ávila   130.000000  2017  Sociedad_Anonima   \n",
       "5  6.000000  6.000000         Badajoz   639.000000  2017  Sociedad_Anonima   \n",
       "6  7.000000  7.000000  Balears, Illes  2351.000000  2017  Sociedad_Anonima   \n",
       "7  8.000000  8.000000       Barcelona 14887.000000  2017  Sociedad_Anonima   \n",
       "8  9.000000  9.000000          Burgos   662.000000  2017  Sociedad_Anonima   \n",
       "9 10.000000 10.000000         Cáceres   332.000000  2017  Sociedad_Anonima   \n",
       "\n",
       "        cod        Shape__Area  Shape__Length       TipoHipoteca  ...  \\\n",
       "0  1.000000  5558819816.938478  899065.384761  Importe_hipotecas  ...   \n",
       "1  2.000000 24628869196.668800  982714.983177  Importe_hipotecas  ...   \n",
       "2  3.000000  9507175453.609671  698396.737290  Importe_hipotecas  ...   \n",
       "3  4.000000 13855293063.925501  764383.039721  Importe_hipotecas  ...   \n",
       "4  5.000000 13966290552.547899  825947.526118  Importe_hipotecas  ...   \n",
       "5  6.000000 35803975339.520302 1452266.342878  Importe_hipotecas  ...   \n",
       "6  7.000000  8397658655.339479 1885856.050393  Importe_hipotecas  ...   \n",
       "7  8.000000 13892170189.546900 1078129.191819  Importe_hipotecas  ...   \n",
       "8  9.000000 26203492774.133999 1530155.700442  Importe_hipotecas  ...   \n",
       "9 10.000000 33620075321.108898 1242300.636382  Importe_hipotecas  ...   \n",
       "\n",
       "            M03           M04           M05           M06           M07  \\\n",
       "0  53254.000000  31073.000000  63502.000000  29401.000000  32969.000000   \n",
       "1  28018.000000  19598.000000  52585.000000  23393.000000  44807.000000   \n",
       "2 210355.000000 222585.000000 153248.000000 157547.000000 121150.000000   \n",
       "3  79137.000000 100574.000000  63395.000000  55218.000000  54463.000000   \n",
       "4   5413.000000   8598.000000   6185.000000   8805.000000   7332.000000   \n",
       "5  34165.000000  29641.000000  55736.000000  34778.000000  27405.000000   \n",
       "6 227123.000000 174105.000000 300946.000000 277222.000000 279123.000000   \n",
       "7 725512.000000 578403.000000 773931.000000 716581.000000 748531.000000   \n",
       "8  32329.000000  29804.000000  24443.000000  20993.000000  23892.000000   \n",
       "9  15486.000000   7744.000000  30604.000000  33131.000000  13920.000000   \n",
       "\n",
       "            M08           M09           M10           M11           M12  \n",
       "0  22977.000000  44810.000000  39951.000000  37119.000000  31979.000000  \n",
       "1  35571.000000  44849.000000  16399.000000  38425.000000  23339.000000  \n",
       "2 128666.000000 206276.000000 125571.000000 150514.000000 115540.000000  \n",
       "3 161397.000000 109346.000000  64817.000000 114675.000000  66255.000000  \n",
       "4   3406.000000   8994.000000   6545.000000   7827.000000   6345.000000  \n",
       "5  37356.000000  41243.000000  40108.000000  24720.000000  28466.000000  \n",
       "6 220866.000000 289389.000000 193939.000000 222455.000000 207790.000000  \n",
       "7 734981.000000 810622.000000 609980.000000 789609.000000 478835.000000  \n",
       "8  24705.000000  27385.000000  27755.000000  28738.000000  23864.000000  \n",
       "9  30120.000000  17151.000000  17418.000000  15368.000000  26674.000000  \n",
       "\n",
       "[10 rows x 22 columns]"
      ]
     },
     "execution_count": 3,
     "metadata": {},
     "output_type": "execute_result"
    }
   ],
   "source": [
    "df_emp_hip_sub = pd.read_csv('../csv/empresas_hipotecas_españa_2012_2017.csv')\n",
    "columnas = df_emp_hip_sub.columns\n",
    "print(df_emp_hip_sub.info())\n",
    "df_emp_hip_sub.head(10)"
   ]
  },
  {
   "cell_type": "markdown",
   "metadata": {},
   "source": [
    "### Pipe Lines y Conversión de Datos"
   ]
  },
  {
   "cell_type": "code",
   "execution_count": 4,
   "metadata": {},
   "outputs": [],
   "source": [
    "class DataLabelEncoderTransform(TransformerMixin):    \n",
    "    def fit(self, df):\n",
    "        return self\n",
    "    \n",
    "    def transform(self, df):\n",
    "        col_numericas = df._get_numeric_data().columns.values.tolist()\n",
    "        col_categoricas = [v for v in columnas if v not in col_numericas]\n",
    "        df_temp = df.copy()\n",
    "        for col in col_categoricas:\n",
    "            df_temp[col] = df_temp[col].astype(str)\n",
    "        encoder = LabelEncoder()        \n",
    "        df_encoder= df_temp[col_categoricas].apply(encoder.fit_transform)             \n",
    "        return pd.concat([df[col_numericas],df_encoder],axis=1),col_categoricas\n",
    "    \n",
    "class DropColumns(BaseEstimator, TransformerMixin):\n",
    "    def __init__(self, columns):\n",
    "        self.columns = columns\n",
    "\n",
    "    def fit(self, X, y=None):\n",
    "        return self\n",
    "    \n",
    "    def transform(self, X):    \n",
    "        data = X.copy()        \n",
    "        return data.drop(labels=self.columns, axis='columns')"
   ]
  },
  {
   "cell_type": "code",
   "execution_count": 5,
   "metadata": {},
   "outputs": [
    {
     "name": "stdout",
     "output_type": "stream",
     "text": [
      "<class 'pandas.core.frame.DataFrame'>\n",
      "RangeIndex: 300 entries, 0 to 299\n",
      "Data columns (total 22 columns):\n",
      " #   Column         Non-Null Count  Dtype  \n",
      "---  ------         --------------  -----  \n",
      " 0   OBJECTID       300 non-null    float64\n",
      " 1   Codigo         300 non-null    float64\n",
      " 2   Total          300 non-null    float64\n",
      " 3   Anio           300 non-null    int64  \n",
      " 4   cod            300 non-null    float64\n",
      " 5   Shape__Area    300 non-null    float64\n",
      " 6   Shape__Length  300 non-null    float64\n",
      " 7   M01            300 non-null    float64\n",
      " 8   M02            300 non-null    float64\n",
      " 9   M03            300 non-null    float64\n",
      " 10  M04            300 non-null    float64\n",
      " 11  M05            300 non-null    float64\n",
      " 12  M06            300 non-null    float64\n",
      " 13  M07            300 non-null    float64\n",
      " 14  M08            300 non-null    float64\n",
      " 15  M09            300 non-null    float64\n",
      " 16  M10            300 non-null    float64\n",
      " 17  M11            300 non-null    float64\n",
      " 18  M12            300 non-null    float64\n",
      " 19  Texto          300 non-null    int64  \n",
      " 20  TipoEmpresa    300 non-null    int64  \n",
      " 21  TipoHipoteca   300 non-null    int64  \n",
      "dtypes: float64(18), int64(4)\n",
      "memory usage: 51.7 KB\n"
     ]
    }
   ],
   "source": [
    "df_emp_hip_encoder,col_categoricas = DataLabelEncoderTransform().fit_transform(df_emp_hip_sub)\n",
    "df_emp_hip_encoder.info()"
   ]
  },
  {
   "cell_type": "markdown",
   "metadata": {},
   "source": [
    "### Visualización distribución de datos"
   ]
  },
  {
   "cell_type": "code",
   "execution_count": 6,
   "metadata": {},
   "outputs": [
    {
     "data": {
      "image/png": "[encoded data removed]",
      "text/plain": [
       "<Figure size 720x720 with 25 Axes>"
      ]
     },
     "metadata": {
      "needs_background": "light"
     },
     "output_type": "display_data"
    }
   ],
   "source": [
    "hist = df_emp_hip_encoder.hist(figsize=(10,10))"
   ]
  },
  {
   "cell_type": "markdown",
   "metadata": {},
   "source": [
    "### Eliminar variables que no aportan valor al modelo"
   ]
  },
  {
   "cell_type": "code",
   "execution_count": 7,
   "metadata": {},
   "outputs": [
    {
     "name": "stdout",
     "output_type": "stream",
     "text": [
      "<class 'pandas.core.frame.DataFrame'>\n",
      "RangeIndex: 300 entries, 0 to 299\n",
      "Data columns (total 18 columns):\n",
      " #   Column         Non-Null Count  Dtype  \n",
      "---  ------         --------------  -----  \n",
      " 0   Total          300 non-null    float64\n",
      " 1   Anio           300 non-null    int64  \n",
      " 2   Shape__Area    300 non-null    float64\n",
      " 3   Shape__Length  300 non-null    float64\n",
      " 4   M01            300 non-null    float64\n",
      " 5   M02            300 non-null    float64\n",
      " 6   M03            300 non-null    float64\n",
      " 7   M04            300 non-null    float64\n",
      " 8   M05            300 non-null    float64\n",
      " 9   M06            300 non-null    float64\n",
      " 10  M07            300 non-null    float64\n",
      " 11  M08            300 non-null    float64\n",
      " 12  M09            300 non-null    float64\n",
      " 13  M10            300 non-null    float64\n",
      " 14  M11            300 non-null    float64\n",
      " 15  M12            300 non-null    float64\n",
      " 16  TipoEmpresa    300 non-null    int64  \n",
      " 17  TipoHipoteca   300 non-null    int64  \n",
      "dtypes: float64(15), int64(3)\n",
      "memory usage: 42.3 KB\n"
     ]
    }
   ],
   "source": [
    "columnas_eliminar = [\"OBJECTID\",\"Codigo\",\"cod\",\"Texto\"]\n",
    "df_emp_hip = DropColumns(columns=columnas_eliminar).fit_transform(df_emp_hip_encoder)\n",
    "df_emp_hip.info()"
   ]
  },
  {
   "cell_type": "markdown",
   "metadata": {},
   "source": [
    "### Selección de la Variable a Predecir"
   ]
  },
  {
   "cell_type": "code",
   "execution_count": 8,
   "metadata": {},
   "outputs": [],
   "source": [
    "col_target = 'Total'\n",
    "columnas_modelo = [v for v in df_emp_hip.columns if v not in col_target]\n",
    "features = df_emp_hip[columnas_modelo]\n",
    "target = df_emp_hip[col_target] "
   ]
  },
  {
   "cell_type": "markdown",
   "metadata": {},
   "source": [
    "### Conjunto de entrenamiento y validación\n",
    "\n",
    "Se separa las variables entre las columnas para realizar la predicción y la columna a predecir el clasificador por el grupo al que pertenece la venta de un inmueble"
   ]
  },
  {
   "cell_type": "code",
   "execution_count": 9,
   "metadata": {},
   "outputs": [],
   "source": [
    "X_train, X_test, y_train, y_test = train_test_split(features, target, \n",
    "                                                    test_size=0.2, random_state=1234)"
   ]
  },
  {
   "cell_type": "markdown",
   "metadata": {},
   "source": [
    "### Parametrización del algoritmo de clasificación"
   ]
  },
  {
   "cell_type": "code",
   "execution_count": 10,
   "metadata": {},
   "outputs": [
    {
     "data": {
      "text/plain": [
       "RandomForestRegressor(max_depth=2, random_state=0)"
      ]
     },
     "execution_count": 10,
     "metadata": {},
     "output_type": "execute_result"
    }
   ],
   "source": [
    "regr = RandomForestRegressor(max_depth=2, random_state=0)\n",
    "regr.fit(X_train, y_train)"
   ]
  },
  {
   "cell_type": "markdown",
   "metadata": {},
   "source": [
    "### Predicción del modelo"
   ]
  },
  {
   "cell_type": "code",
   "execution_count": 11,
   "metadata": {},
   "outputs": [
    {
     "name": "stdout",
     "output_type": "stream",
     "text": [
      "[  723.30065655   769.09052976   584.84620149   662.79391192\n",
      "   584.84620149   608.19249396   584.84620149   584.84620149\n",
      "   792.72580834 27321.85594841   584.84620149   584.84620149\n",
      "  1046.84706739  2003.12189974   584.84620149 24278.56109127\n",
      "   740.89730787   584.84620149 27281.20328175  1356.53073967\n",
      "  1842.75251512   584.84620149  1582.78544711  2914.4190673\n",
      "   584.84620149   917.72388585  1578.08690086   834.45224312\n",
      "   584.84620149  1477.51879044   584.84620149  1535.24346268\n",
      "   887.64158441   608.74220424   584.84620149  1674.9783417\n",
      "  2464.89281712  1393.21672443  1404.70302014  1842.75251512\n",
      "   584.84620149  1842.75251512 15555.28057089   584.84620149\n",
      "   584.84620149   584.84620149   584.84620149  1302.4546852\n",
      "  1022.0658436   1842.75251512  1842.75251512  1591.30209472\n",
      "  1535.24346268   804.42381679   584.84620149  1448.89529942\n",
      "  1075.23156191  1842.75251512   735.73013458   584.84620149]\n"
     ]
    }
   ],
   "source": [
    "y_pred = regr.predict(X_test)\n",
    "print(y_pred)"
   ]
  },
  {
   "cell_type": "markdown",
   "metadata": {},
   "source": [
    "### Métricas"
   ]
  },
  {
   "cell_type": "code",
   "execution_count": 12,
   "metadata": {},
   "outputs": [
    {
     "name": "stdout",
     "output_type": "stream",
     "text": [
      "MAE 488.8121311425376\n",
      "MSE 1722847.7218733698\n",
      "R2 0.9376589574597152\n"
     ]
    }
   ],
   "source": [
    "print('MAE',mean_absolute_error(y_test, y_pred))\n",
    "print('MSE',mean_squared_error(y_test, y_pred))\n",
    "print('R2', r2_score(y_test, y_pred))"
   ]
  },
  {
   "cell_type": "markdown",
   "metadata": {},
   "source": [
    "## Validación cruzada con 8 folds"
   ]
  },
  {
   "cell_type": "code",
   "execution_count": 13,
   "metadata": {},
   "outputs": [],
   "source": [
    "def graficar_r2_scores(estimator, train_x, train_y,test_x,test_y,nparts=5,jobs=None):\n",
    "    kfold = KFold(n_splits=nparts,shuffle=True, random_state=1234)\n",
    "    fig,axes = plt.subplots(figsize=(7, 3))\n",
    "    axes.set_title(\"R2/Nro. Fold\")\n",
    "    axes.set_xlabel(\"Nro. Fold\")\n",
    "    axes.set_ylabel(\"R2\")    \n",
    "    train_scores = cross_val_score(estimator, train_x, train_y, cv = kfold, n_jobs=jobs,scoring=\"r2\")\n",
    "    test_scores = cross_val_score(estimator, test_x, test_y, cv = kfold, n_jobs=jobs,scoring=\"r2\")        \n",
    "    train_sizes = range(1,nparts+1,1)    \n",
    "    axes.grid()    \n",
    "    axes.plot(train_sizes, train_scores, 'o-', color=\"r\",label=\"Datos Entrenamiento\")\n",
    "    axes.plot(train_sizes, test_scores, 'o-', color=\"g\",label=\"Validacion Cruzada\")\n",
    "    axes.legend(loc=\"best\")\n",
    "    return train_scores"
   ]
  },
  {
   "cell_type": "code",
   "execution_count": 14,
   "metadata": {},
   "outputs": [
    {
     "data": {
      "text/plain": [
       "array([0.6082691 , 0.97160056, 0.93051021, 0.60417945, 0.97871517,\n",
       "       0.85687012, 0.6445612 , 0.90142357])"
      ]
     },
     "execution_count": 14,
     "metadata": {},
     "output_type": "execute_result"
    },
    {
     "data": {
      "image/png": "[encoded data removed]",
      "text/plain": [
       "<Figure size 504x216 with 1 Axes>"
      ]
     },
     "metadata": {
      "needs_background": "light"
     },
     "output_type": "display_data"
    }
   ],
   "source": [
    "graficar_r2_scores(regr,X_train,y_train,X_test,y_test,nparts=8,jobs=2)"
   ]
  },
  {
   "cell_type": "markdown",
   "metadata": {},
   "source": [
    "### Conclusiones"
   ]
  },
  {
   "cell_type": "markdown",
   "metadata": {},
   "source": [
    "Luego se puede establecer que es posible estimar la cantidad de Empresas activas en un periodo en función de las hipotecas y ubicación geográfica. Se sugiere realizar una contrastación contra otros algoritmos y adicionalmente validar los resultados con juicios de expertos en el contexto que el problema este definido."
   ]
  }
 ],
 "metadata": {
  "kernelspec": {
   "display_name": "Python 3",
   "language": "python",
   "name": "python3"
  },
  "language_info": {
   "codemirror_mode": {
    "name": "ipython",
    "version": 3
   },
   "file_extension": ".py",
   "mimetype": "text/x-python",
   "name": "python",
   "nbconvert_exporter": "python",
   "pygments_lexer": "ipython3",
   "version": "3.8.5"
  }
 },
 "nbformat": 4,
 "nbformat_minor": 4
}
